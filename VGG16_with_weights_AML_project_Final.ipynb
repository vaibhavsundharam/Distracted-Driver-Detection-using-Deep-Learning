{
  "nbformat": 4,
  "nbformat_minor": 0,
  "metadata": {
    "colab": {
      "name": "VGG16 with weights_AML_project_Final.ipynb",
      "provenance": [],
      "collapsed_sections": [],
      "toc_visible": true,
      "machine_shape": "hm",
      "include_colab_link": true
    },
    "kernelspec": {
      "name": "python3",
      "display_name": "Python 3"
    },
    "accelerator": "GPU",
    "widgets": {
      "application/vnd.jupyter.widget-state+json": {
        "9823095a1a3242dcb4cea4231ca780be": {
          "model_module": "@jupyter-widgets/controls",
          "model_name": "HBoxModel",
          "state": {
            "_view_name": "HBoxView",
            "_dom_classes": [],
            "_model_name": "HBoxModel",
            "_view_module": "@jupyter-widgets/controls",
            "_model_module_version": "1.5.0",
            "_view_count": null,
            "_view_module_version": "1.5.0",
            "box_style": "",
            "layout": "IPY_MODEL_ac429b5e73814e7cbf65def3771ed625",
            "_model_module": "@jupyter-widgets/controls",
            "children": [
              "IPY_MODEL_7be34101ade14121abc5384714d7161f",
              "IPY_MODEL_39567fdef3fb4d998b82da68cf12b5a5"
            ]
          }
        },
        "ac429b5e73814e7cbf65def3771ed625": {
          "model_module": "@jupyter-widgets/base",
          "model_name": "LayoutModel",
          "state": {
            "_view_name": "LayoutView",
            "grid_template_rows": null,
            "right": null,
            "justify_content": null,
            "_view_module": "@jupyter-widgets/base",
            "overflow": null,
            "_model_module_version": "1.2.0",
            "_view_count": null,
            "flex_flow": null,
            "width": null,
            "min_width": null,
            "border": null,
            "align_items": null,
            "bottom": null,
            "_model_module": "@jupyter-widgets/base",
            "top": null,
            "grid_column": null,
            "overflow_y": null,
            "overflow_x": null,
            "grid_auto_flow": null,
            "grid_area": null,
            "grid_template_columns": null,
            "flex": null,
            "_model_name": "LayoutModel",
            "justify_items": null,
            "grid_row": null,
            "max_height": null,
            "align_content": null,
            "visibility": null,
            "align_self": null,
            "height": null,
            "min_height": null,
            "padding": null,
            "grid_auto_rows": null,
            "grid_gap": null,
            "max_width": null,
            "order": null,
            "_view_module_version": "1.2.0",
            "grid_template_areas": null,
            "object_position": null,
            "object_fit": null,
            "grid_auto_columns": null,
            "margin": null,
            "display": null,
            "left": null
          }
        },
        "7be34101ade14121abc5384714d7161f": {
          "model_module": "@jupyter-widgets/controls",
          "model_name": "FloatProgressModel",
          "state": {
            "_view_name": "ProgressView",
            "style": "IPY_MODEL_e801b21e78254918b840df6384678771",
            "_dom_classes": [],
            "description": "100%",
            "_model_name": "FloatProgressModel",
            "bar_style": "success",
            "max": 553433881,
            "_view_module": "@jupyter-widgets/controls",
            "_model_module_version": "1.5.0",
            "value": 553433881,
            "_view_count": null,
            "_view_module_version": "1.5.0",
            "orientation": "horizontal",
            "min": 0,
            "description_tooltip": null,
            "_model_module": "@jupyter-widgets/controls",
            "layout": "IPY_MODEL_0e78ff974aec4ddb89dcd24c53a8c14a"
          }
        },
        "39567fdef3fb4d998b82da68cf12b5a5": {
          "model_module": "@jupyter-widgets/controls",
          "model_name": "HTMLModel",
          "state": {
            "_view_name": "HTMLView",
            "style": "IPY_MODEL_9deb02a4983e4ebdb684c00853f104e3",
            "_dom_classes": [],
            "description": "",
            "_model_name": "HTMLModel",
            "placeholder": "​",
            "_view_module": "@jupyter-widgets/controls",
            "_model_module_version": "1.5.0",
            "value": " 528M/528M [00:09&lt;00:00, 57.3MB/s]",
            "_view_count": null,
            "_view_module_version": "1.5.0",
            "description_tooltip": null,
            "_model_module": "@jupyter-widgets/controls",
            "layout": "IPY_MODEL_b31f4c00e76a4ab7b69266775950f10f"
          }
        },
        "e801b21e78254918b840df6384678771": {
          "model_module": "@jupyter-widgets/controls",
          "model_name": "ProgressStyleModel",
          "state": {
            "_view_name": "StyleView",
            "_model_name": "ProgressStyleModel",
            "description_width": "initial",
            "_view_module": "@jupyter-widgets/base",
            "_model_module_version": "1.5.0",
            "_view_count": null,
            "_view_module_version": "1.2.0",
            "bar_color": null,
            "_model_module": "@jupyter-widgets/controls"
          }
        },
        "0e78ff974aec4ddb89dcd24c53a8c14a": {
          "model_module": "@jupyter-widgets/base",
          "model_name": "LayoutModel",
          "state": {
            "_view_name": "LayoutView",
            "grid_template_rows": null,
            "right": null,
            "justify_content": null,
            "_view_module": "@jupyter-widgets/base",
            "overflow": null,
            "_model_module_version": "1.2.0",
            "_view_count": null,
            "flex_flow": null,
            "width": null,
            "min_width": null,
            "border": null,
            "align_items": null,
            "bottom": null,
            "_model_module": "@jupyter-widgets/base",
            "top": null,
            "grid_column": null,
            "overflow_y": null,
            "overflow_x": null,
            "grid_auto_flow": null,
            "grid_area": null,
            "grid_template_columns": null,
            "flex": null,
            "_model_name": "LayoutModel",
            "justify_items": null,
            "grid_row": null,
            "max_height": null,
            "align_content": null,
            "visibility": null,
            "align_self": null,
            "height": null,
            "min_height": null,
            "padding": null,
            "grid_auto_rows": null,
            "grid_gap": null,
            "max_width": null,
            "order": null,
            "_view_module_version": "1.2.0",
            "grid_template_areas": null,
            "object_position": null,
            "object_fit": null,
            "grid_auto_columns": null,
            "margin": null,
            "display": null,
            "left": null
          }
        },
        "9deb02a4983e4ebdb684c00853f104e3": {
          "model_module": "@jupyter-widgets/controls",
          "model_name": "DescriptionStyleModel",
          "state": {
            "_view_name": "StyleView",
            "_model_name": "DescriptionStyleModel",
            "description_width": "",
            "_view_module": "@jupyter-widgets/base",
            "_model_module_version": "1.5.0",
            "_view_count": null,
            "_view_module_version": "1.2.0",
            "_model_module": "@jupyter-widgets/controls"
          }
        },
        "b31f4c00e76a4ab7b69266775950f10f": {
          "model_module": "@jupyter-widgets/base",
          "model_name": "LayoutModel",
          "state": {
            "_view_name": "LayoutView",
            "grid_template_rows": null,
            "right": null,
            "justify_content": null,
            "_view_module": "@jupyter-widgets/base",
            "overflow": null,
            "_model_module_version": "1.2.0",
            "_view_count": null,
            "flex_flow": null,
            "width": null,
            "min_width": null,
            "border": null,
            "align_items": null,
            "bottom": null,
            "_model_module": "@jupyter-widgets/base",
            "top": null,
            "grid_column": null,
            "overflow_y": null,
            "overflow_x": null,
            "grid_auto_flow": null,
            "grid_area": null,
            "grid_template_columns": null,
            "flex": null,
            "_model_name": "LayoutModel",
            "justify_items": null,
            "grid_row": null,
            "max_height": null,
            "align_content": null,
            "visibility": null,
            "align_self": null,
            "height": null,
            "min_height": null,
            "padding": null,
            "grid_auto_rows": null,
            "grid_gap": null,
            "max_width": null,
            "order": null,
            "_view_module_version": "1.2.0",
            "grid_template_areas": null,
            "object_position": null,
            "object_fit": null,
            "grid_auto_columns": null,
            "margin": null,
            "display": null,
            "left": null
          }
        }
      }
    }
  },
  "cells": [
    {
      "cell_type": "markdown",
      "metadata": {
        "id": "view-in-github",
        "colab_type": "text"
      },
      "source": [
        "<a href=\"https://colab.research.google.com/github/vaibhavsundharam/Distracted-Driver-Detection-using-Deep-Learning/blob/master/VGG16_with_weights_AML_project_Final.ipynb\" target=\"_parent\"><img src=\"https://colab.research.google.com/assets/colab-badge.svg\" alt=\"Open In Colab\"/></a>"
      ]
    },
    {
      "cell_type": "code",
      "metadata": {
        "id": "P_bhTuiSjmQP",
        "colab_type": "code",
        "colab": {}
      },
      "source": [
        "import torch\n",
        "import sys\n",
        "import os\n",
        "from __future__ import print_function, division\n",
        "import torch\n",
        "import pandas as pd\n",
        "import numpy as np\n",
        "import matplotlib.pyplot as plt\n",
        "from torch.utils.data import Dataset, DataLoader\n",
        "from torchvision import transforms, utils\n",
        "import torchvision.transforms as transforms\n",
        "import torchvision.models as models\n",
        "from skimage.transform import resize\n",
        "import torch.nn as nn\n",
        "import torch.nn.functional as F\n",
        "import torchvision.transforms.functional as ff\n",
        "from PIL import Image\n",
        "\n",
        "# Ignore warnings\n",
        "import warnings\n",
        "warnings.filterwarnings(\"ignore\")\n",
        "plt.ion()   # interactive mode"
      ],
      "execution_count": null,
      "outputs": []
    },
    {
      "cell_type": "code",
      "metadata": {
        "id": "_Ox-Mf9ttQ-3",
        "colab_type": "code",
        "colab": {
          "base_uri": "https://localhost:8080/",
          "height": 35
        },
        "outputId": "21a7f962-b802-4f6c-878a-e012ea592b0f"
      },
      "source": [
        "torch.cuda.is_available()"
      ],
      "execution_count": null,
      "outputs": [
        {
          "output_type": "execute_result",
          "data": {
            "text/plain": [
              "True"
            ]
          },
          "metadata": {
            "tags": []
          },
          "execution_count": 2
        }
      ]
    },
    {
      "cell_type": "code",
      "metadata": {
        "id": "wvT32aAgtSYB",
        "colab_type": "code",
        "colab": {
          "base_uri": "https://localhost:8080/",
          "height": 35
        },
        "outputId": "d92997d0-7ac6-4241-fd88-932026ce8e0c"
      },
      "source": [
        "# Set device on GPU if available, else CPU\n",
        "device = torch.device('cuda' if torch.cuda.is_available() else 'cpu')\n",
        "print(device)"
      ],
      "execution_count": null,
      "outputs": [
        {
          "output_type": "stream",
          "text": [
            "cuda\n"
          ],
          "name": "stdout"
        }
      ]
    },
    {
      "cell_type": "code",
      "metadata": {
        "id": "RB2F9HJmTkTB",
        "colab_type": "code",
        "colab": {
          "base_uri": "https://localhost:8080/",
          "height": 124
        },
        "outputId": "3a73e356-16f8-4bf7-eaf5-878ed3309614"
      },
      "source": [
        "from google.colab import drive\n",
        "drive.mount('/content/gdrive/')"
      ],
      "execution_count": null,
      "outputs": [
        {
          "output_type": "stream",
          "text": [
            "Go to this URL in a browser: https://accounts.google.com/o/oauth2/auth?client_id=947318989803-6bn6qk8qdgf4n4g3pfee6491hc0brc4i.apps.googleusercontent.com&redirect_uri=urn%3aietf%3awg%3aoauth%3a2.0%3aoob&response_type=code&scope=email%20https%3a%2f%2fwww.googleapis.com%2fauth%2fdocs.test%20https%3a%2f%2fwww.googleapis.com%2fauth%2fdrive%20https%3a%2f%2fwww.googleapis.com%2fauth%2fdrive.photos.readonly%20https%3a%2f%2fwww.googleapis.com%2fauth%2fpeopleapi.readonly\n",
            "\n",
            "Enter your authorization code:\n",
            "··········\n",
            "Mounted at /content/gdrive/\n"
          ],
          "name": "stdout"
        }
      ]
    },
    {
      "cell_type": "code",
      "metadata": {
        "id": "ZxyUEjWNTmXl",
        "colab_type": "code",
        "colab": {
          "base_uri": "https://localhost:8080/",
          "height": 35
        },
        "outputId": "c16c56a5-dc64-4810-a057-ea79dc11e1c7"
      },
      "source": [
        "prefix = '/content/gdrive/My Drive/'\n",
        "# modify \"customized_path_to_your_project\" \n",
        "customized_path_to_your_project = 'AML/Project/'\n",
        "sys_path = os.path.join(prefix, customized_path_to_your_project)\n",
        "sys.path.append(sys_path)\n",
        "print(f\"System path: {sys_path}\")"
      ],
      "execution_count": null,
      "outputs": [
        {
          "output_type": "stream",
          "text": [
            "System path: /content/gdrive/My Drive/AML/Project/\n"
          ],
          "name": "stdout"
        }
      ]
    },
    {
      "cell_type": "code",
      "metadata": {
        "id": "aDTuXjRhUVAm",
        "colab_type": "code",
        "colab": {
          "base_uri": "https://localhost:8080/",
          "height": 364
        },
        "outputId": "1556a640-316c-4835-b615-4a084c492f1b"
      },
      "source": [
        "# reading the CSV file with driver-class mapping for training\n",
        "root_dir = sys_path+\"Coding\"\n",
        "driver_imgs_csv = sys_path+\"Coding/CSV/driver_imgs_list.csv\"\n",
        "\n",
        "print(\"Root directory Location: {}\".format(root_dir)+\"\\n\")\n",
        "print(\"CSV file Location: {}\".format(driver_imgs_csv)+\"\\n\")\n",
        "\n",
        "\n",
        "drivers_imgs_file = pd.read_csv(driver_imgs_csv)\n",
        "print(drivers_imgs_file)\n",
        "\n",
        "n=0\n",
        "img_name=drivers_imgs_file.iloc[n,2]\n",
        "img_class=drivers_imgs_file.iloc[n,1]\n",
        "print(\"Image name: {}\".format(img_name))\n",
        "print(\"Image class: {}\".format(img_class[1]))\n"
      ],
      "execution_count": null,
      "outputs": [
        {
          "output_type": "stream",
          "text": [
            "Root directory Location: /content/gdrive/My Drive/AML/Project/Coding\n",
            "\n",
            "CSV file Location: /content/gdrive/My Drive/AML/Project/Coding/CSV/driver_imgs_list.csv\n",
            "\n",
            "      subject classname            img\n",
            "0        p002        c0  img_44733.jpg\n",
            "1        p002        c0  img_72999.jpg\n",
            "2        p002        c0  img_25094.jpg\n",
            "3        p002        c0  img_69092.jpg\n",
            "4        p002        c0  img_92629.jpg\n",
            "...       ...       ...            ...\n",
            "22419    p081        c9  img_56936.jpg\n",
            "22420    p081        c9  img_46218.jpg\n",
            "22421    p081        c9  img_25946.jpg\n",
            "22422    p081        c9  img_67850.jpg\n",
            "22423    p081        c9   img_9684.jpg\n",
            "\n",
            "[22424 rows x 3 columns]\n",
            "Image name: img_44733.jpg\n",
            "Image class: 0\n"
          ],
          "name": "stdout"
        }
      ]
    },
    {
      "cell_type": "markdown",
      "metadata": {
        "id": "IU0MzTaoAcPn",
        "colab_type": "text"
      },
      "source": [
        "# Data loading"
      ]
    },
    {
      "cell_type": "code",
      "metadata": {
        "id": "OvaHpxhqYpyM",
        "colab_type": "code",
        "colab": {
          "base_uri": "https://localhost:8080/",
          "height": 52
        },
        "outputId": "3a348124-9067-4b68-b080-f186c1cd8ac9"
      },
      "source": [
        "# number of unique drivers in the dataset\n",
        "unique_driver_list = list(drivers_imgs_file.iloc[:, 0][1:].unique())\n",
        "print(\"Unique drivers are:\", unique_driver_list)\n",
        "print(\"Number of unique drivers:\",len(unique_driver_list))"
      ],
      "execution_count": null,
      "outputs": [
        {
          "output_type": "stream",
          "text": [
            "Unique drivers are: ['p002', 'p012', 'p014', 'p015', 'p016', 'p021', 'p022', 'p024', 'p026', 'p035', 'p039', 'p041', 'p042', 'p045', 'p047', 'p049', 'p050', 'p051', 'p052', 'p056', 'p061', 'p064', 'p066', 'p072', 'p075', 'p081']\n",
            "Number of unique drivers: 26\n"
          ],
          "name": "stdout"
        }
      ]
    },
    {
      "cell_type": "code",
      "metadata": {
        "id": "_FycJ29WJDcJ",
        "colab_type": "code",
        "colab": {
          "base_uri": "https://localhost:8080/",
          "height": 55
        },
        "outputId": "e7e33707-c2a0-419a-c478-40cec2528813"
      },
      "source": [
        "# Accessing the csv location of each unique driver\n",
        "#print(root_dir)\n",
        "unique_driver_csv_path=list()\n",
        "for driver in unique_driver_list:\n",
        "  driver_csv_path=root_dir+\"/CSV/\"+driver+\".csv\"\n",
        "  unique_driver_csv_path.append(driver_csv_path)\n",
        "print(\"CSV path of unique drivers:\",unique_driver_csv_path, len(unique_driver_csv_path))"
      ],
      "execution_count": null,
      "outputs": [
        {
          "output_type": "stream",
          "text": [
            "CSV path of unique drivers: ['/content/gdrive/My Drive/AML/Project/Coding/CSV/p002.csv', '/content/gdrive/My Drive/AML/Project/Coding/CSV/p012.csv', '/content/gdrive/My Drive/AML/Project/Coding/CSV/p014.csv', '/content/gdrive/My Drive/AML/Project/Coding/CSV/p015.csv', '/content/gdrive/My Drive/AML/Project/Coding/CSV/p016.csv', '/content/gdrive/My Drive/AML/Project/Coding/CSV/p021.csv', '/content/gdrive/My Drive/AML/Project/Coding/CSV/p022.csv', '/content/gdrive/My Drive/AML/Project/Coding/CSV/p024.csv', '/content/gdrive/My Drive/AML/Project/Coding/CSV/p026.csv', '/content/gdrive/My Drive/AML/Project/Coding/CSV/p035.csv', '/content/gdrive/My Drive/AML/Project/Coding/CSV/p039.csv', '/content/gdrive/My Drive/AML/Project/Coding/CSV/p041.csv', '/content/gdrive/My Drive/AML/Project/Coding/CSV/p042.csv', '/content/gdrive/My Drive/AML/Project/Coding/CSV/p045.csv', '/content/gdrive/My Drive/AML/Project/Coding/CSV/p047.csv', '/content/gdrive/My Drive/AML/Project/Coding/CSV/p049.csv', '/content/gdrive/My Drive/AML/Project/Coding/CSV/p050.csv', '/content/gdrive/My Drive/AML/Project/Coding/CSV/p051.csv', '/content/gdrive/My Drive/AML/Project/Coding/CSV/p052.csv', '/content/gdrive/My Drive/AML/Project/Coding/CSV/p056.csv', '/content/gdrive/My Drive/AML/Project/Coding/CSV/p061.csv', '/content/gdrive/My Drive/AML/Project/Coding/CSV/p064.csv', '/content/gdrive/My Drive/AML/Project/Coding/CSV/p066.csv', '/content/gdrive/My Drive/AML/Project/Coding/CSV/p072.csv', '/content/gdrive/My Drive/AML/Project/Coding/CSV/p075.csv', '/content/gdrive/My Drive/AML/Project/Coding/CSV/p081.csv'] 26\n"
          ],
          "name": "stdout"
        }
      ]
    },
    {
      "cell_type": "code",
      "metadata": {
        "id": "DCvj4Ak3Dror",
        "colab_type": "code",
        "colab": {
          "base_uri": "https://localhost:8080/",
          "height": 55
        },
        "outputId": "ec8a564b-66ae-4093-a1df-20c2edeb6058"
      },
      "source": [
        "'''\n",
        "import random\n",
        "drivers_val=random.sample(unique_driver_csv_path,5) # A list containing the file location of randomly choosen validation drivers\n",
        "print(\"Drivers seleted for validation\\n\")\n",
        "for i in range(len(drivers_val)):\n",
        "  print(\"Driver name:\",drivers_val[i][49:52],\"---> Driver CSV location:\",drivers_val[i])\n",
        "\n",
        "print(\"\\n\")\n",
        "\n",
        "drivers_train=list() # A list containing the file location of remaining drivers (used for testing)\n",
        "print(\"Drivers selected for testing\\n\")\n",
        "for j in unique_driver_csv_path:\n",
        "  if j in drivers_val:\n",
        "    continue\n",
        "  else:\n",
        "    drivers_train.append(j)\n",
        "    print(\"Driver name:\",j[49:52],\"---> Driver CSV location:\",j)\n",
        "'''\n"
      ],
      "execution_count": null,
      "outputs": [
        {
          "output_type": "execute_result",
          "data": {
            "text/plain": [
              "'\\nimport random\\ndrivers_val=random.sample(unique_driver_csv_path,5) # A list containing the file location of randomly choosen validation drivers\\nprint(\"Drivers seleted for validation\\n\")\\nfor i in range(len(drivers_val)):\\n  print(\"Driver name:\",drivers_val[i][49:52],\"---> Driver CSV location:\",drivers_val[i])\\n\\nprint(\"\\n\")\\n\\ndrivers_train=list() # A list containing the file location of remaining drivers (used for testing)\\nprint(\"Drivers selected for testing\\n\")\\nfor j in unique_driver_csv_path:\\n  if j in drivers_val:\\n    continue\\n  else:\\n    drivers_train.append(j)\\n    print(\"Driver name:\",j[49:52],\"---> Driver CSV location:\",j)\\n'"
            ]
          },
          "metadata": {
            "tags": []
          },
          "execution_count": 9
        }
      ]
    },
    {
      "cell_type": "code",
      "metadata": {
        "id": "fX8MDjeIQacM",
        "colab_type": "code",
        "colab": {
          "base_uri": "https://localhost:8080/",
          "height": 55
        },
        "outputId": "0178d88a-0ad3-4ad9-b81b-cc816dd47762"
      },
      "source": [
        "'''# combining CSV files for test set and validation set\n",
        "\n",
        "# Training data\n",
        "train_combined=pd.concat([pd.read_csv(f) for f in drivers_train])\n",
        "train_combined.to_csv( \"train_combined.csv\", index=False, encoding='utf-8-sig')\n",
        "\n",
        "# Validation data\n",
        "val_combined=pd.concat([pd.read_csv(f) for f in drivers_val])\n",
        "val_combined.to_csv( \"val_combined.csv\", index=False, encoding='utf-8-sig')'''\n"
      ],
      "execution_count": null,
      "outputs": [
        {
          "output_type": "execute_result",
          "data": {
            "text/plain": [
              "'# combining CSV files for test set and validation set\\n\\n# Training data\\ntrain_combined=pd.concat([pd.read_csv(f) for f in drivers_train])\\ntrain_combined.to_csv( \"train_combined.csv\", index=False, encoding=\\'utf-8-sig\\')\\n\\n# Validation data\\nval_combined=pd.concat([pd.read_csv(f) for f in drivers_val])\\nval_combined.to_csv( \"val_combined.csv\", index=False, encoding=\\'utf-8-sig\\')'"
            ]
          },
          "metadata": {
            "tags": []
          },
          "execution_count": 10
        }
      ]
    },
    {
      "cell_type": "code",
      "metadata": {
        "id": "h2QyzM6Me3Se",
        "colab_type": "code",
        "colab": {}
      },
      "source": [
        "class DistractedDriverDataset(Dataset): # custom class to explore the dataset \n",
        "\n",
        "  def __init__(self, csv_file_loc, root_dir, transform=None):\n",
        "    self.driver_imgs_file = pd.read_csv(csv_file_loc) #  reading the CSV file\n",
        "    self.root_dir = root_dir # root directory of the images \n",
        "    self.transform = transform # transformations if any\n",
        "\n",
        "  def __len__(self):  # returns the length of the entire training set\n",
        "    return len(self.driver_imgs_file)\n",
        "\n",
        "  def __getitem__(self, idx):    \n",
        "    img_name=os.path.join(self.root_dir,self.driver_imgs_file.iloc[idx,1],self.driver_imgs_file.iloc[idx,2]) # featching the file name    \n",
        "     \n",
        "    driver_name=self.driver_imgs_file.iloc[idx,0] # driver name\n",
        "    #print(img_name, driver_name)\n",
        "    img_tensor=self.transform(Image.open(img_name)) # reading the image\n",
        "    \n",
        "    img_class=int(self.driver_imgs_file.iloc[idx,1][1])# fetching the image class \n",
        "    \n",
        "    return img_tensor,img_class #,img_name[64:77],driver_name\n"
      ],
      "execution_count": null,
      "outputs": []
    },
    {
      "cell_type": "code",
      "metadata": {
        "id": "MvoJza92Wich",
        "colab_type": "code",
        "colab": {
          "base_uri": "https://localhost:8080/",
          "height": 87
        },
        "outputId": "a6a3fc17-f309-437c-8073-abc94d18191d"
      },
      "source": [
        "# Here we create two seperate instances of the Distracted driver data set. One will hold the data set for training and the other will hold data for validation\n",
        "\n",
        "train_data_loc=\"/content/train_combined.csv\" # location of the training csv file\n",
        "val_data_loc=\"/content/val_combined.csv\" # location of the validation csv file\n",
        "print(\"Root directory:\",root_dir,\"\\n\")\n",
        "\n",
        "train_dataset=DistractedDriverDataset(csv_file_loc=train_data_loc,root_dir=root_dir+\"/Data/Train\",\n",
        "                                transform=transforms.Compose([transforms.RandomRotation(degrees=(-15,15)), transforms.Resize((244,244)), transforms.ToTensor()]))\n",
        "len_train_dataset=len(train_dataset)\n",
        "print(\"Total number of elements in training data:\", len_train_dataset)\n",
        "\n",
        "\n",
        "val_dataset=DistractedDriverDataset(csv_file_loc=val_data_loc,root_dir=root_dir+\"/Data/Train\",\n",
        "                                transform=transforms.Compose([transforms.Resize((244,244)),transforms.ToTensor()]))\n",
        "len_val_dataset=len(val_dataset)\n",
        "print(\"Total number of elements in validation data:\", len_val_dataset)"
      ],
      "execution_count": null,
      "outputs": [
        {
          "output_type": "stream",
          "text": [
            "Root directory: /content/gdrive/My Drive/AML/Project/Coding \n",
            "\n",
            "Total number of elements in training data: 18661\n",
            "Total number of elements in validation data: 3763\n"
          ],
          "name": "stdout"
        }
      ]
    },
    {
      "cell_type": "code",
      "metadata": {
        "id": "VSNqnecyzn8I",
        "colab_type": "code",
        "colab": {
          "base_uri": "https://localhost:8080/",
          "height": 69
        },
        "outputId": "5db4ab3b-5834-4643-b506-66711ee9cd7a"
      },
      "source": [
        "# claculating the weights for each class\n",
        "\n",
        "train_csv=pd.read_csv(train_data_loc)\n",
        "train_csv.head()\n",
        "count_list=train_csv.groupby('classname').size().to_list()\n",
        "weights=list()\n",
        "print(f\"Counts for each class: {count_list}\")\n",
        "total=sum(count_list)\n",
        "for count in count_list:\n",
        "  w=max(count_list)/count\n",
        "  weights.append(w)\n",
        "\n",
        "weights=torch.FloatTensor(weights).to(device)\n",
        "print(f\"Training weights: {weights}\")\n",
        "  \n",
        "  \n"
      ],
      "execution_count": null,
      "outputs": [
        {
          "output_type": "stream",
          "text": [
            "Counts for each class: [2067, 1911, 1967, 1944, 1947, 1916, 1950, 1632, 1558, 1769]\n",
            "Training weights: tensor([1.0000, 1.0816, 1.0508, 1.0633, 1.0616, 1.0788, 1.0600, 1.2665, 1.3267,\n",
            "        1.1685], device='cuda:0')\n"
          ],
          "name": "stdout"
        }
      ]
    },
    {
      "cell_type": "code",
      "metadata": {
        "id": "c6t30_j65gsI",
        "colab_type": "code",
        "colab": {
          "base_uri": "https://localhost:8080/",
          "height": 35
        },
        "outputId": "7c894e86-57f1-4283-c4d0-3c23a4ce60fe"
      },
      "source": [
        "# loading training and validation data for the neural network\n",
        "train_loader=DataLoader(train_dataset, batch_size=32,shuffle=True, num_workers=16) # x.shape--->torch.Size([32, 3, 244, 244])\n",
        "val_loader=DataLoader(val_dataset, batch_size=32,shuffle=True, num_workers=16) # x.shape---> torch.Size([32, 3, 244, 244]) \n",
        "\n",
        "'''for x,y in train_loader:\n",
        "  print(x.shape)\n",
        "  x=x.squeeze()\n",
        "  print(x.shape)\n",
        "  plt.imshow(  x.permute(1, 2, 0)  )\n",
        "  break'''\n"
      ],
      "execution_count": null,
      "outputs": [
        {
          "output_type": "execute_result",
          "data": {
            "text/plain": [
              "'for x,y in train_loader:\\n  print(x.shape)\\n  x=x.squeeze()\\n  print(x.shape)\\n  plt.imshow(  x.permute(1, 2, 0)  )\\n  break'"
            ]
          },
          "metadata": {
            "tags": []
          },
          "execution_count": 14
        }
      ]
    },
    {
      "cell_type": "markdown",
      "metadata": {
        "id": "YWnX4x8OSFTZ",
        "colab_type": "text"
      },
      "source": [
        "#Helper functions"
      ]
    },
    {
      "cell_type": "code",
      "metadata": {
        "id": "AlTOws0MR_-O",
        "colab_type": "code",
        "colab": {}
      },
      "source": [
        "# helper function for computing accuracy\n",
        "def get_acc(pred, y):\n",
        "  pred = pred.float()\n",
        "  y = y.float() \n",
        "  return (y==pred).sum().float()/y.size(0)*100.\n",
        "  "
      ],
      "execution_count": null,
      "outputs": []
    },
    {
      "cell_type": "code",
      "metadata": {
        "id": "dbOnQR3TcJfO",
        "colab_type": "code",
        "colab": {}
      },
      "source": [
        "def get_model_acc_and_loss(cal_loss,model,criterion,loader):      \n",
        "  ys=[]\n",
        "  y_preds=[]\n",
        "  loss_total=0\n",
        "  for x, y in loader:    \n",
        "    x=x.to(device)\n",
        "    y=y.to(device)\n",
        "    y_pred=model(x)\n",
        "    ys.append(y)\n",
        "    y_preds.append(torch.argmax(y_pred, dim=1))\n",
        "\n",
        "    if cal_loss==True:\n",
        "      loss=criterion(y_pred,y)\n",
        "      loss_total += loss.item()\n",
        "\n",
        "  if cal_loss==True:    \n",
        "    y=torch.cat(ys, dim=0)\n",
        "    y_pred=torch.cat(y_preds, dim=0)\n",
        "    return get_acc(y_pred, y), loss_total\n",
        "  else:\n",
        "    y=torch.cat(ys, dim=0)\n",
        "    y_pred=torch.cat(y_preds, dim=0)\n",
        "    return get_acc(y_pred, y) \n",
        "  \n",
        "    "
      ],
      "execution_count": null,
      "outputs": []
    },
    {
      "cell_type": "code",
      "metadata": {
        "id": "hXdyeG1mTm6j",
        "colab_type": "code",
        "colab": {}
      },
      "source": [
        "# solver function for NN training\n",
        "def Solver_NN (model, name, train_loader, val_loader, optim, criterion, len_train_dataset, len_val_dataset, epoch=51, lr=1e-1):\n",
        "  print(\"Solver Initiated\")\n",
        "  model=model.to(device) # sending model to GPU\n",
        "  print(\"Model successfully sent to the GPU\\n\")  \n",
        "\n",
        "  train_acc_list=list()\n",
        "  val_acc_list=list()\n",
        "  epoch_list=list()\n",
        "  train_loss_list=list()\n",
        "  val_loss_list=list()\n",
        "  total_step = len(train_loader)\n",
        "  best_epoch=None\n",
        "  #curr_lr = learning_rate\n",
        "  counter=0\n",
        "  for e in range(epoch):\n",
        "    model.train()\n",
        "    loss_epoch=0     \n",
        "    epoch_list.append(e)   \n",
        "\n",
        "    for i,(x,y) in enumerate(train_loader):      \n",
        "      x = x.to(device)\n",
        "      y = y.to(device)    \n",
        "      #print(\"x is:\",x.shape)     \n",
        "      #print(\"y is:\",y.shape)\n",
        "\n",
        "      \n",
        "\n",
        "      #forward pass\n",
        "      y_pred=model(x)\n",
        "      #print(\"y_pred is:\",y_pred.shape)\n",
        "      loss=criterion(y_pred,y)\n",
        "      #print(\"loss:\",loss)\n",
        "\n",
        "      #bacward pass\n",
        "      optim.zero_grad()\n",
        "      #loss.to(device)\n",
        "      loss.backward()\n",
        "      optim.step()\n",
        "      \n",
        "      loss_epoch += float(loss.item())\n",
        "      #print(\"loss epoch:\",loss_epoch)    \n",
        "         \n",
        "      #print(f\"Training loss in epoch {e} is {(loss_epoch/len_train_dataset)*1000}\") \n",
        "      #train_loss_list.append((loss_epoch/len_train_dataset)*1000)\n",
        "\n",
        "      if (i+1) % 100 == 0:\n",
        "        print (\"Epoch [{}/{}], Step [{}/{}] Loss: {:.4f}\"\n",
        "                   .format(counter+1, epoch, i+1, total_step, loss.item()))\n",
        "    counter+=1\n",
        "      \n",
        "    print(f\"Training loss in epoch {e} is {(loss_epoch/len_train_dataset)*1000}\") \n",
        "    train_loss_list.append((loss_epoch/len_train_dataset)*1000)\n",
        "    model.eval()\n",
        "    with torch.no_grad():      \n",
        "      val_acc, val_loss = get_model_acc_and_loss(True,model,criterion,val_loader)\n",
        "      print(f\"Validation loss in epoch {e} is {(val_loss/len_val_dataset)*1000}\")\n",
        "      val_loss_list.append((val_loss/len_val_dataset)*1000)\n",
        "      train_acc = get_model_acc_and_loss(False,model,criterion,train_loader)\n",
        "      train_acc_list.append(train_acc)\n",
        "      val_acc_list.append(val_acc)\n",
        "      print(f'Validation accuracy: {val_acc}, Train accuracy: {train_acc}') \n",
        "\n",
        "      if best_epoch==None:\n",
        "        best_epoch=e        \n",
        "        best_val=val_acc\n",
        "        torch.save(model.state_dict(), root_dir+'/Saved Weights/'+name+\" epoch \"+str(e))\n",
        "        print(\"File saved successfully\\n\")\n",
        "      elif val_acc>best_val:\n",
        "        best_epoch=e        \n",
        "        best_val=val_acc\n",
        "        torch.save(model.state_dict(), root_dir+'/Saved Weights/'+name+\" epoch \"+str(e))\n",
        "        print(\"File saved successfully\\n\")\n",
        "      else:\n",
        "        print(\"\\n\")\n",
        "\n",
        "  print(f'Best epoch:{best_epoch}, Best Validtion accuracy:{best_val}')\n",
        "\n",
        "  fig, axs = plt.subplots(2)  \n",
        "  fig.tight_layout(pad=3.0)\n",
        "  axs[0].plot(epoch_list,train_acc_list, 'r--' ,epoch_list,val_acc_list,'g')\n",
        "  axs[0].set_title('Accuracy vs. epochs')  \n",
        "  axs[1].plot(epoch_list,train_loss_list, 'r--' ,epoch_list,val_loss_list,'g')\n",
        "  axs[1].set_title('Loss vs. epochs')\n",
        "  \n",
        "\n",
        "  plt.savefig(name+\".png\")\n",
        "\n",
        "  \n",
        "  \n",
        "  return model "
      ],
      "execution_count": null,
      "outputs": []
    },
    {
      "cell_type": "markdown",
      "metadata": {
        "id": "7x47q8d1UlJF",
        "colab_type": "text"
      },
      "source": [
        "#Neural networks"
      ]
    },
    {
      "cell_type": "code",
      "metadata": {
        "id": "GmoB9E79xkY1",
        "colab_type": "code",
        "colab": {}
      },
      "source": [
        "class CNNClassifier(nn.Module):\n",
        "    \n",
        "    def __init__(self):\n",
        "        super().__init__()\n",
        "        # Construct a CNN with 2 layers of convolutional layer and 1 layer of linear layer.\n",
        "        self.cnn= nn.Sequential(\n",
        "                            nn.Conv2d(3, 8, kernel_size=5, stride=2, padding=1),\n",
        "                            nn.ReLU(),\n",
        "                            nn.Conv2d(8, 16, kernel_size=3, stride=2, padding=1),\n",
        "                            nn.ReLU(),\n",
        "                            nn.MaxPool2d(2,2),\n",
        "                            nn.Conv2d(16, 32, kernel_size=3, stride=2, padding=1),\n",
        "                            nn.ReLU(),\n",
        "                            nn.Conv2d(32, 64, kernel_size=3, stride=1),\n",
        "                            nn.ReLU(),\n",
        "                            nn.MaxPool2d(2,2),\n",
        "                            nn.Conv2d(64, 128, kernel_size=3, stride=1, padding=1),\n",
        "                            nn.ReLU(),\n",
        "                            nn.Conv2d(128, 256, kernel_size=3, stride=1, padding=1),\n",
        "                            nn.ReLU(),\n",
        "                            nn.MaxPool2d(2,2)\n",
        "                           \n",
        "                    )\n",
        "        self.fc = nn.Linear(2304, 10)\n",
        "    def forward(self, x):\n",
        "        batch_size = x.size(0)\n",
        "        return self.fc(self.cnn(x).view(batch_size, -1))"
      ],
      "execution_count": null,
      "outputs": []
    },
    {
      "cell_type": "code",
      "metadata": {
        "id": "ys5FJtPmU6lE",
        "colab_type": "code",
        "colab": {}
      },
      "source": [
        "class extra_layer(nn.Module):\n",
        "    \n",
        "    def __init__(self):\n",
        "        super().__init__()               \n",
        "        self.fc = nn.Sequential(\n",
        "            nn.ReLU(),\n",
        "            nn.Linear(1000, 512),\n",
        "            nn.Linear(512, 10))\n",
        "    def forward(self, x):        \n",
        "        return self.fc(x)"
      ],
      "execution_count": null,
      "outputs": []
    },
    {
      "cell_type": "markdown",
      "metadata": {
        "id": "Unf1dyOWBzIK",
        "colab_type": "text"
      },
      "source": [
        "#Model Evaluation"
      ]
    },
    {
      "cell_type": "code",
      "metadata": {
        "id": "8rSAsHgxDndx",
        "colab_type": "code",
        "colab": {
          "base_uri": "https://localhost:8080/",
          "height": 1000,
          "referenced_widgets": [
            "9823095a1a3242dcb4cea4231ca780be",
            "ac429b5e73814e7cbf65def3771ed625",
            "7be34101ade14121abc5384714d7161f",
            "39567fdef3fb4d998b82da68cf12b5a5",
            "e801b21e78254918b840df6384678771",
            "0e78ff974aec4ddb89dcd24c53a8c14a",
            "9deb02a4983e4ebdb684c00853f104e3",
            "b31f4c00e76a4ab7b69266775950f10f"
          ]
        },
        "outputId": "8d812977-d77e-4e44-dadb-51012f27fae1"
      },
      "source": [
        "# Instantiating one of the models given in Neural Network section\n",
        "\n",
        "def select_model(inp,CNNClassifier, training, extra_layer):\n",
        "  print(f\"Pre trainined: {training}\")\n",
        "  if inp==1:\n",
        "    model=CNNClassifier()\n",
        "    name=\"CNN\"\n",
        "  elif inp==2:\n",
        "    model=nn.Sequential(torch.hub.load('pytorch/vision:v0.6.0', 'vgg16', pretrained=training), extra_layer)\n",
        "    name=\"VGG16\"\n",
        "  elif inp==3:\n",
        "    model = nn.Sequential(torch.hub.load('pytorch/vision:v0.6.0', 'resnet18', pretrained=training), extra_layer)\n",
        "    name=\"RESNET18\"\n",
        "  elif inp==4:\n",
        "    model = nn.Sequential(torch.hub.load('pytorch/vision:v0.6.0', 'resnet34', pretrained=training), extra_layer)\n",
        "    name=\"RESNET34\"\n",
        "  elif inp==5:\n",
        "    model=nn.Sequential(torch.hub.load('pytorch/vision:v0.6.0', 'alexnet', pretrained=training), extra_layer)\n",
        "    name=\"ALEXNET\"\n",
        "  elif inp==6:\n",
        "    model=nn.Sequential(torch.hub.load('pytorch/vision:v0.6.0', 'mobilenet_v2', pretrained=training), extra_layer)\n",
        "    name=\"MOBILENET_V2\"\n",
        "  return model, name \n",
        "\n",
        "print(\"-------------------Select Model----------------------\")\n",
        "print(\"Input '1' for CNNClassifier\")\n",
        "print(\"Input '2' for VGG16\")\n",
        "print(\"Input '3' for Resnet18\")\n",
        "print(\"Input '4' for Resnet34\")\n",
        "print(\"Input '5' for Alexnet\")\n",
        "print(\"Input '6' for Mobilenet_v2\")\n",
        "inp=int(input(\"Your input---> \"))\n",
        "\n",
        "if inp==2 or inp ==3 or inp ==4 or inp==5 or inp==6:\n",
        "  train=int(input(\"Do you want a pretrained version 1/0? \"))\n",
        "  if train ==1:\n",
        "    pretrained=True\n",
        "  else:\n",
        "    pretrained=False\n",
        "print(\"-----------------------------------------------------------\")\n",
        "\n",
        "model, name=select_model(inp,CNNClassifier(),pretrained,extra_layer())\n",
        "print(f\"selected model---> {name}\\n  {model}\")"
      ],
      "execution_count": null,
      "outputs": [
        {
          "output_type": "stream",
          "text": [
            "-------------------Select Model----------------------\n",
            "Input '1' for CNNClassifier\n",
            "Input '2' for VGG16\n",
            "Input '3' for Resnet18\n",
            "Input '4' for Resnet34\n",
            "Input '5' for Alexnet\n",
            "Input '6' for Mobilenet_v2\n",
            "Your input---> 2\n",
            "Do you want a pretrained version 1/0? 1\n",
            "-----------------------------------------------------------\n",
            "Pre trainined: True\n"
          ],
          "name": "stdout"
        },
        {
          "output_type": "stream",
          "text": [
            "Downloading: \"https://github.com/pytorch/vision/archive/v0.6.0.zip\" to /root/.cache/torch/hub/v0.6.0.zip\n",
            "Downloading: \"https://download.pytorch.org/models/vgg16-397923af.pth\" to /root/.cache/torch/hub/checkpoints/vgg16-397923af.pth\n"
          ],
          "name": "stderr"
        },
        {
          "output_type": "display_data",
          "data": {
            "application/vnd.jupyter.widget-view+json": {
              "model_id": "9823095a1a3242dcb4cea4231ca780be",
              "version_minor": 0,
              "version_major": 2
            },
            "text/plain": [
              "HBox(children=(FloatProgress(value=0.0, max=553433881.0), HTML(value='')))"
            ]
          },
          "metadata": {
            "tags": []
          }
        },
        {
          "output_type": "stream",
          "text": [
            "\n",
            "selected model---> VGG16\n",
            "  Sequential(\n",
            "  (0): VGG(\n",
            "    (features): Sequential(\n",
            "      (0): Conv2d(3, 64, kernel_size=(3, 3), stride=(1, 1), padding=(1, 1))\n",
            "      (1): ReLU(inplace=True)\n",
            "      (2): Conv2d(64, 64, kernel_size=(3, 3), stride=(1, 1), padding=(1, 1))\n",
            "      (3): ReLU(inplace=True)\n",
            "      (4): MaxPool2d(kernel_size=2, stride=2, padding=0, dilation=1, ceil_mode=False)\n",
            "      (5): Conv2d(64, 128, kernel_size=(3, 3), stride=(1, 1), padding=(1, 1))\n",
            "      (6): ReLU(inplace=True)\n",
            "      (7): Conv2d(128, 128, kernel_size=(3, 3), stride=(1, 1), padding=(1, 1))\n",
            "      (8): ReLU(inplace=True)\n",
            "      (9): MaxPool2d(kernel_size=2, stride=2, padding=0, dilation=1, ceil_mode=False)\n",
            "      (10): Conv2d(128, 256, kernel_size=(3, 3), stride=(1, 1), padding=(1, 1))\n",
            "      (11): ReLU(inplace=True)\n",
            "      (12): Conv2d(256, 256, kernel_size=(3, 3), stride=(1, 1), padding=(1, 1))\n",
            "      (13): ReLU(inplace=True)\n",
            "      (14): Conv2d(256, 256, kernel_size=(3, 3), stride=(1, 1), padding=(1, 1))\n",
            "      (15): ReLU(inplace=True)\n",
            "      (16): MaxPool2d(kernel_size=2, stride=2, padding=0, dilation=1, ceil_mode=False)\n",
            "      (17): Conv2d(256, 512, kernel_size=(3, 3), stride=(1, 1), padding=(1, 1))\n",
            "      (18): ReLU(inplace=True)\n",
            "      (19): Conv2d(512, 512, kernel_size=(3, 3), stride=(1, 1), padding=(1, 1))\n",
            "      (20): ReLU(inplace=True)\n",
            "      (21): Conv2d(512, 512, kernel_size=(3, 3), stride=(1, 1), padding=(1, 1))\n",
            "      (22): ReLU(inplace=True)\n",
            "      (23): MaxPool2d(kernel_size=2, stride=2, padding=0, dilation=1, ceil_mode=False)\n",
            "      (24): Conv2d(512, 512, kernel_size=(3, 3), stride=(1, 1), padding=(1, 1))\n",
            "      (25): ReLU(inplace=True)\n",
            "      (26): Conv2d(512, 512, kernel_size=(3, 3), stride=(1, 1), padding=(1, 1))\n",
            "      (27): ReLU(inplace=True)\n",
            "      (28): Conv2d(512, 512, kernel_size=(3, 3), stride=(1, 1), padding=(1, 1))\n",
            "      (29): ReLU(inplace=True)\n",
            "      (30): MaxPool2d(kernel_size=2, stride=2, padding=0, dilation=1, ceil_mode=False)\n",
            "    )\n",
            "    (avgpool): AdaptiveAvgPool2d(output_size=(7, 7))\n",
            "    (classifier): Sequential(\n",
            "      (0): Linear(in_features=25088, out_features=4096, bias=True)\n",
            "      (1): ReLU(inplace=True)\n",
            "      (2): Dropout(p=0.5, inplace=False)\n",
            "      (3): Linear(in_features=4096, out_features=4096, bias=True)\n",
            "      (4): ReLU(inplace=True)\n",
            "      (5): Dropout(p=0.5, inplace=False)\n",
            "      (6): Linear(in_features=4096, out_features=1000, bias=True)\n",
            "    )\n",
            "  )\n",
            "  (1): extra_layer(\n",
            "    (fc): Sequential(\n",
            "      (0): ReLU()\n",
            "      (1): Linear(in_features=1000, out_features=512, bias=True)\n",
            "      (2): Linear(in_features=512, out_features=10, bias=True)\n",
            "    )\n",
            "  )\n",
            ")\n"
          ],
          "name": "stdout"
        }
      ]
    },
    {
      "cell_type": "code",
      "metadata": {
        "id": "g8N2CRBOr8Jo",
        "colab_type": "code",
        "colab": {
          "base_uri": "https://localhost:8080/",
          "height": 52
        },
        "outputId": "73e16161-7d44-49a1-fe3d-d7ff1d49f824"
      },
      "source": [
        "response=int(input(\"Do you want to load weights from previously saved mode to continue training 1/0 ?\"))\n",
        "if response==1:\n",
        "  weights=str(input(\"Input the location of the pickle file\"))\n",
        "  model.load_state_dict(torch.load(weights))\n",
        "elif response==0:\n",
        "  print(\"No weights loaded\")"
      ],
      "execution_count": null,
      "outputs": [
        {
          "output_type": "stream",
          "text": [
            "Do you want to load weights from previously saved mode to continue training 1/0 ?0\n",
            "No weights loaded\n"
          ],
          "name": "stdout"
        }
      ]
    },
    {
      "cell_type": "code",
      "metadata": {
        "id": "CjH2IW1EVF6-",
        "colab_type": "code",
        "colab": {}
      },
      "source": [
        "#criterion and optimizer\n",
        "\n",
        "lr=1e-2\n",
        "criterion=nn.CrossEntropyLoss(reduction='mean', weight=weights) # loss criterion \n",
        "optim=torch.optim.SGD(model.parameters(), lr=lr) # optimizer "
      ],
      "execution_count": null,
      "outputs": []
    },
    {
      "cell_type": "code",
      "metadata": {
        "id": "qtMETZtbRpGr",
        "colab_type": "code",
        "colab": {
          "base_uri": "https://localhost:8080/",
          "height": 52
        },
        "outputId": "54815f12-7fa6-4345-a485-0a79b37e3bb3"
      },
      "source": [
        "# GPU Access and model parameters\n",
        "use_cuda = True\n",
        "if use_cuda and torch.cuda.is_available():\n",
        "  print(\"Running on Cuda\")\n",
        "model_parameters = filter(lambda p: p.requires_grad, model.parameters())\n",
        "params = sum([np.prod(p.size()) for p in model_parameters])\n",
        "print(\"Learnable parameters:\",params)"
      ],
      "execution_count": null,
      "outputs": [
        {
          "output_type": "stream",
          "text": [
            "Running on Cuda\n",
            "Learnable parameters: 138875186\n"
          ],
          "name": "stdout"
        }
      ]
    },
    {
      "cell_type": "code",
      "metadata": {
        "id": "MRvkKt19VHeP",
        "colab_type": "code",
        "colab": {
          "base_uri": "https://localhost:8080/",
          "height": 1000
        },
        "outputId": "ead0b2ca-3c21-426f-9379-6abb2e6355e5"
      },
      "source": [
        "#model training\n",
        "\n",
        "modle=Solver_NN(model, name, train_loader, val_loader, optim,criterion, len_train_dataset, len_val_dataset, epoch=10, lr=lr)"
      ],
      "execution_count": null,
      "outputs": [
        {
          "output_type": "stream",
          "text": [
            "Solver Initiated\n",
            "Model successfully sent to the GPU\n",
            "\n",
            "Epoch [1/10], Step [100/584] Loss: 1.7140\n",
            "Epoch [1/10], Step [200/584] Loss: 0.4207\n",
            "Epoch [1/10], Step [300/584] Loss: 0.5998\n",
            "Epoch [1/10], Step [400/584] Loss: 0.1439\n",
            "Epoch [1/10], Step [500/584] Loss: 0.1460\n",
            "Training loss in epoch 0 is 17.635220542655293\n",
            "Validation loss in epoch 0 is 25.00630035667764\n",
            "Validation accuracy: 78.71379089355469, Train accuracy: 96.88119506835938\n",
            "File saved successfully\n",
            "\n",
            "Epoch [2/10], Step [100/584] Loss: 0.1152\n",
            "Epoch [2/10], Step [200/584] Loss: 0.0985\n",
            "Epoch [2/10], Step [300/584] Loss: 0.0030\n",
            "Epoch [2/10], Step [400/584] Loss: 0.0045\n",
            "Epoch [2/10], Step [500/584] Loss: 0.0012\n",
            "Training loss in epoch 1 is 1.8869128634309589\n",
            "Validation loss in epoch 1 is 13.255416145120059\n",
            "Validation accuracy: 88.54637145996094, Train accuracy: 99.24441528320312\n",
            "File saved successfully\n",
            "\n",
            "Epoch [3/10], Step [100/584] Loss: 0.0018\n",
            "Epoch [3/10], Step [200/584] Loss: 0.0148\n",
            "Epoch [3/10], Step [300/584] Loss: 0.0444\n",
            "Epoch [3/10], Step [400/584] Loss: 0.0094\n",
            "Epoch [3/10], Step [500/584] Loss: 0.1295\n",
            "Training loss in epoch 2 is 0.9595900180906841\n",
            "Validation loss in epoch 2 is 16.273506951956172\n",
            "Validation accuracy: 86.36726379394531, Train accuracy: 99.39445495605469\n",
            "\n",
            "\n",
            "Epoch [4/10], Step [100/584] Loss: 0.1249\n",
            "Epoch [4/10], Step [200/584] Loss: 0.0026\n",
            "Epoch [4/10], Step [300/584] Loss: 0.0021\n",
            "Epoch [4/10], Step [400/584] Loss: 0.0004\n",
            "Epoch [4/10], Step [500/584] Loss: 0.0002\n",
            "Training loss in epoch 3 is 0.5283644672835309\n",
            "Validation loss in epoch 3 is 24.90150856228861\n",
            "Validation accuracy: 85.43714904785156, Train accuracy: 99.29800415039062\n",
            "\n",
            "\n",
            "Epoch [5/10], Step [100/584] Loss: 0.0017\n",
            "Epoch [5/10], Step [200/584] Loss: 0.0014\n",
            "Epoch [5/10], Step [300/584] Loss: 0.0122\n",
            "Epoch [5/10], Step [400/584] Loss: 0.0015\n",
            "Epoch [5/10], Step [500/584] Loss: 0.0003\n",
            "Training loss in epoch 4 is 0.36578631093788705\n",
            "Validation loss in epoch 4 is 20.842081437755102\n",
            "Validation accuracy: 87.96173095703125, Train accuracy: 99.84459686279297\n",
            "\n",
            "\n",
            "Epoch [6/10], Step [100/584] Loss: 0.0006\n",
            "Epoch [6/10], Step [200/584] Loss: 0.0000\n",
            "Epoch [6/10], Step [300/584] Loss: 0.0020\n",
            "Epoch [6/10], Step [400/584] Loss: 0.0589\n",
            "Epoch [6/10], Step [500/584] Loss: 0.0476\n",
            "Training loss in epoch 5 is 0.1943065973557052\n",
            "Validation loss in epoch 5 is 22.61017422866717\n",
            "Validation accuracy: 88.33377838134766, Train accuracy: 99.89818572998047\n",
            "\n",
            "\n",
            "Epoch [7/10], Step [100/584] Loss: 0.0004\n",
            "Epoch [7/10], Step [200/584] Loss: 0.0000\n",
            "Epoch [7/10], Step [300/584] Loss: 0.0460\n",
            "Epoch [7/10], Step [400/584] Loss: 0.0365\n",
            "Epoch [7/10], Step [500/584] Loss: 0.0022\n",
            "Training loss in epoch 6 is 0.3388915065815865\n",
            "Validation loss in epoch 6 is 19.696056263666346\n",
            "Validation accuracy: 88.78553771972656, Train accuracy: 99.9035415649414\n",
            "File saved successfully\n",
            "\n",
            "Epoch [8/10], Step [100/584] Loss: 0.0002\n",
            "Epoch [8/10], Step [200/584] Loss: 0.0008\n",
            "Epoch [8/10], Step [300/584] Loss: 0.0005\n",
            "Epoch [8/10], Step [400/584] Loss: 0.0003\n",
            "Epoch [8/10], Step [500/584] Loss: 0.0000\n",
            "Training loss in epoch 7 is 0.2060323296996662\n",
            "Validation loss in epoch 7 is 17.889316781064377\n",
            "Validation accuracy: 88.75897216796875, Train accuracy: 99.97320556640625\n",
            "\n",
            "\n",
            "Epoch [9/10], Step [100/584] Loss: 0.0001\n",
            "Epoch [9/10], Step [200/584] Loss: 0.0036\n",
            "Epoch [9/10], Step [300/584] Loss: 0.0010\n",
            "Epoch [9/10], Step [400/584] Loss: 0.0000\n",
            "Epoch [9/10], Step [500/584] Loss: 0.0002\n",
            "Training loss in epoch 8 is 0.11588973374361357\n",
            "Validation loss in epoch 8 is 22.18989697697075\n",
            "Validation accuracy: 89.21073913574219, Train accuracy: 99.93569946289062\n",
            "File saved successfully\n",
            "\n",
            "Epoch [10/10], Step [100/584] Loss: 0.0011\n",
            "Epoch [10/10], Step [200/584] Loss: 0.0000\n",
            "Epoch [10/10], Step [300/584] Loss: 0.0000\n",
            "Epoch [10/10], Step [400/584] Loss: 0.0000\n",
            "Epoch [10/10], Step [500/584] Loss: 0.0000\n",
            "Training loss in epoch 9 is 0.06740180801527774\n",
            "Validation loss in epoch 9 is 25.572967967263505\n",
            "Validation accuracy: 88.06803131103516, Train accuracy: 99.81243896484375\n",
            "\n",
            "\n",
            "Best epoch:8, Best Validtion accuracy:89.21073913574219\n"
          ],
          "name": "stdout"
        },
        {
          "output_type": "display_data",
          "data": {
            "image/png": "[encoded data removed]",
            "text/plain": [
              "<Figure size 432x288 with 2 Axes>"
            ]
          },
          "metadata": {
            "tags": [],
            "needs_background": "light"
          }
        }
      ]
    },
    {
      "cell_type": "markdown",
      "metadata": {
        "id": "s-5S6YCX1i_b",
        "colab_type": "text"
      },
      "source": [
        "##Evaluation"
      ]
    },
    {
      "cell_type": "code",
      "metadata": {
        "id": "yGOmYeCv1o1X",
        "colab_type": "code",
        "colab": {
          "base_uri": "https://localhost:8080/",
          "height": 1000
        },
        "outputId": "92ec1bc8-d732-4aae-e5ee-bdcf3f30946c"
      },
      "source": [
        "# selecting and loading weights of a trainied models\n",
        "\n",
        "def select_model(inp,CNNClassifier,extra_layer):\n",
        "  \n",
        "  if inp==1:\n",
        "    model=CNNClassifier()\n",
        "    name=\"CNN\"\n",
        "  elif inp==2:\n",
        "    model=nn.Sequential(torch.hub.load('pytorch/vision:v0.6.0', 'vgg16', pretrained=False), extra_layer)\n",
        "    name=\"VGG16\"\n",
        "  elif inp==3:\n",
        "    model = nn.Sequential(torch.hub.load('pytorch/vision:v0.6.0', 'resnet18', pretrained=False), extra_layer)\n",
        "    name=\"RESNET18\"\n",
        "  elif inp==4:\n",
        "    model = nn.Sequential(torch.hub.load('pytorch/vision:v0.6.0', 'resnet34', pretrained=False), extra_layer)\n",
        "    name=\"RESNET34\"\n",
        "  elif inp==5:\n",
        "    model=nn.Sequential(torch.hub.load('pytorch/vision:v0.6.0', 'alexnet', pretrained=False), extra_layer)\n",
        "    name=\"ALEXNET\"\n",
        "  elif inp==6:\n",
        "    model=nn.Sequential(torch.hub.load('pytorch/vision:v0.6.0', 'mobilenet_v2', pretrained=False), extra_layer)\n",
        "    name=\"MOBILENET_V2\"\n",
        "  return model, name \n",
        "\n",
        "print(\"-------------------Select Model----------------------\")\n",
        "print(\"Input '1' for CNNClassifier\")\n",
        "print(\"Input '2' for VGG16\")\n",
        "print(\"Input '3' for Resnet18\")\n",
        "print(\"Input '4' for Resnet34\")\n",
        "print(\"Input '5' for Alexnet\")\n",
        "print(\"Input '6' for Mobilenet_v2\")\n",
        "inp=int(input(\"Your input---> \"))\n",
        "print(\"-----------------------------------------------------------\")\n",
        "\n",
        "model, name=select_model(inp,CNNClassifier(),extra_layer())\n",
        "model.to(device)\n",
        "print(f\"selected model---> {name}\\n  {model}\")\n",
        "\n",
        "\n",
        "print(\"-------------------Load Weights---------------------\")\n",
        "\n",
        "loc=input(f\"enter the location of pkl file for model {name}\")\n",
        "model.load_state_dict(torch.load(loc))\n",
        "\n",
        "\n",
        "print(\"-----------------------------------------------------------\")"
      ],
      "execution_count": null,
      "outputs": [
        {
          "output_type": "stream",
          "text": [
            "-------------------Select Model----------------------\n",
            "Input '1' for CNNClassifier\n",
            "Input '2' for VGG16\n",
            "Input '3' for Resnet18\n",
            "Input '4' for Resnet34\n",
            "Input '5' for Alexnet\n",
            "Input '6' for Mobilenet_v2\n",
            "Your input---> 2\n",
            "-----------------------------------------------------------\n"
          ],
          "name": "stdout"
        },
        {
          "output_type": "stream",
          "text": [
            "Using cache found in /root/.cache/torch/hub/pytorch_vision_v0.6.0\n"
          ],
          "name": "stderr"
        },
        {
          "output_type": "stream",
          "text": [
            "selected model---> VGG16\n",
            "  Sequential(\n",
            "  (0): VGG(\n",
            "    (features): Sequential(\n",
            "      (0): Conv2d(3, 64, kernel_size=(3, 3), stride=(1, 1), padding=(1, 1))\n",
            "      (1): ReLU(inplace=True)\n",
            "      (2): Conv2d(64, 64, kernel_size=(3, 3), stride=(1, 1), padding=(1, 1))\n",
            "      (3): ReLU(inplace=True)\n",
            "      (4): MaxPool2d(kernel_size=2, stride=2, padding=0, dilation=1, ceil_mode=False)\n",
            "      (5): Conv2d(64, 128, kernel_size=(3, 3), stride=(1, 1), padding=(1, 1))\n",
            "      (6): ReLU(inplace=True)\n",
            "      (7): Conv2d(128, 128, kernel_size=(3, 3), stride=(1, 1), padding=(1, 1))\n",
            "      (8): ReLU(inplace=True)\n",
            "      (9): MaxPool2d(kernel_size=2, stride=2, padding=0, dilation=1, ceil_mode=False)\n",
            "      (10): Conv2d(128, 256, kernel_size=(3, 3), stride=(1, 1), padding=(1, 1))\n",
            "      (11): ReLU(inplace=True)\n",
            "      (12): Conv2d(256, 256, kernel_size=(3, 3), stride=(1, 1), padding=(1, 1))\n",
            "      (13): ReLU(inplace=True)\n",
            "      (14): Conv2d(256, 256, kernel_size=(3, 3), stride=(1, 1), padding=(1, 1))\n",
            "      (15): ReLU(inplace=True)\n",
            "      (16): MaxPool2d(kernel_size=2, stride=2, padding=0, dilation=1, ceil_mode=False)\n",
            "      (17): Conv2d(256, 512, kernel_size=(3, 3), stride=(1, 1), padding=(1, 1))\n",
            "      (18): ReLU(inplace=True)\n",
            "      (19): Conv2d(512, 512, kernel_size=(3, 3), stride=(1, 1), padding=(1, 1))\n",
            "      (20): ReLU(inplace=True)\n",
            "      (21): Conv2d(512, 512, kernel_size=(3, 3), stride=(1, 1), padding=(1, 1))\n",
            "      (22): ReLU(inplace=True)\n",
            "      (23): MaxPool2d(kernel_size=2, stride=2, padding=0, dilation=1, ceil_mode=False)\n",
            "      (24): Conv2d(512, 512, kernel_size=(3, 3), stride=(1, 1), padding=(1, 1))\n",
            "      (25): ReLU(inplace=True)\n",
            "      (26): Conv2d(512, 512, kernel_size=(3, 3), stride=(1, 1), padding=(1, 1))\n",
            "      (27): ReLU(inplace=True)\n",
            "      (28): Conv2d(512, 512, kernel_size=(3, 3), stride=(1, 1), padding=(1, 1))\n",
            "      (29): ReLU(inplace=True)\n",
            "      (30): MaxPool2d(kernel_size=2, stride=2, padding=0, dilation=1, ceil_mode=False)\n",
            "    )\n",
            "    (avgpool): AdaptiveAvgPool2d(output_size=(7, 7))\n",
            "    (classifier): Sequential(\n",
            "      (0): Linear(in_features=25088, out_features=4096, bias=True)\n",
            "      (1): ReLU(inplace=True)\n",
            "      (2): Dropout(p=0.5, inplace=False)\n",
            "      (3): Linear(in_features=4096, out_features=4096, bias=True)\n",
            "      (4): ReLU(inplace=True)\n",
            "      (5): Dropout(p=0.5, inplace=False)\n",
            "      (6): Linear(in_features=4096, out_features=1000, bias=True)\n",
            "    )\n",
            "  )\n",
            "  (1): extra_layer(\n",
            "    (fc): Sequential(\n",
            "      (0): ReLU()\n",
            "      (1): Linear(in_features=1000, out_features=512, bias=True)\n",
            "      (2): Linear(in_features=512, out_features=10, bias=True)\n",
            "    )\n",
            "  )\n",
            ")\n",
            "-------------------Load Weights---------------------\n",
            "enter the location of pkl file for model VGG16/content/gdrive/My Drive/AML/Project/Coding/With weights/Weights/VGG16 epoch 1\n",
            "-----------------------------------------------------------\n"
          ],
          "name": "stdout"
        }
      ]
    },
    {
      "cell_type": "code",
      "metadata": {
        "id": "Fgz_fYSJCgE5",
        "colab_type": "code",
        "colab": {}
      },
      "source": [
        "lr=1e-2\n",
        "criterion=nn.CrossEntropyLoss(reduction='mean') # loss criterion \n",
        "optim=torch.optim.SGD(model.parameters(), lr=lr) # optimizer "
      ],
      "execution_count": null,
      "outputs": []
    },
    {
      "cell_type": "code",
      "metadata": {
        "id": "0ufwIXq-Rv9f",
        "colab_type": "code",
        "colab": {
          "base_uri": "https://localhost:8080/",
          "height": 35
        },
        "outputId": "0a4a9c2f-1c1c-40e1-e25f-b65227b90aa8"
      },
      "source": [
        "model.eval()\n",
        "with torch.no_grad():\n",
        "  val_acc,val_loss = get_model_acc_and_loss(True, model, criterion, val_loader)\n",
        "  print(f'Validation accuracy: {val_acc}, & Validation loss: {val_loss}')"
      ],
      "execution_count": null,
      "outputs": [
        {
          "output_type": "stream",
          "text": [
            "Validation accuracy: 88.57295227050781, & Validation loss: 47.23905520886183\n"
          ],
          "name": "stdout"
        }
      ]
    }
  ]
}